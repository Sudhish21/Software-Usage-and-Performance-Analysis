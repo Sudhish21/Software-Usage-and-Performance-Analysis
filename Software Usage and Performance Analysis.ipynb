{
 "cells": [
  {
   "cell_type": "markdown",
   "id": "9006e320",
   "metadata": {},
   "source": [
    "**Project Idea:** Software Usage and Performance Analysis\n",
    "- **Objective:** Analyze software usage data to identify patterns in user engagement and software performance issues.\n",
    "- **Skills Demonstrated:** User behavior analysis, anomaly detection\n",
    "- **Dataset Link:** [Kaggle - Google Play Store Apps](https://www.kaggle.com/lava18/google-play-store-apps)"
   ]
  },
  {
   "cell_type": "markdown",
   "id": "963378e2",
   "metadata": {},
   "source": [
    "#### About Dataset\n",
    "\n",
    "#### Context\n",
    "While many public datasets (on Kaggle and the like) provide Apple App Store data, there are not many counterpart datasets available for Google Play Store apps anywhere on the web. On digging deeper, I found out that iTunes App Store page deploys a nicely indexed appendix-like structure to allow for simple and easy web scraping. On the other hand, Google Play Store uses sophisticated modern-day techniques (like dynamic page load) using JQuery making scraping more challenging.\n",
    "\n",
    "#### Content\n",
    "Each app (row) has values for catergory, rating, size, and more.\n",
    "\n",
    "#### Acknowledgements\n",
    "This information is scraped from the Google Play Store. This app information would not be available without it.\n",
    "\n",
    "#### Inspiration\n",
    "The Play Store apps data has enormous potential to drive app-making businesses to success. Actionable insights can be drawn for developers to work on and capture the Android market!"
   ]
  },
  {
   "cell_type": "code",
   "execution_count": 2,
   "id": "17f301f4",
   "metadata": {},
   "outputs": [],
   "source": [
    "import pandas as pd"
   ]
  },
  {
   "cell_type": "code",
   "execution_count": 1,
   "id": "b8a8da71",
   "metadata": {},
   "outputs": [],
   "source": [
    "# Load the first dataset\n",
    "file_path_1 = 'googleplaystore_user_reviews.csv'\n",
    "data_1 = pd.read_csv(file_path_1)"
   ]
  },
  {
   "cell_type": "code",
   "execution_count": 3,
   "id": "d8ba741f",
   "metadata": {},
   "outputs": [
    {
     "data": {
      "text/html": [
       "<div>\n",
       "<style scoped>\n",
       "    .dataframe tbody tr th:only-of-type {\n",
       "        vertical-align: middle;\n",
       "    }\n",
       "\n",
       "    .dataframe tbody tr th {\n",
       "        vertical-align: top;\n",
       "    }\n",
       "\n",
       "    .dataframe thead th {\n",
       "        text-align: right;\n",
       "    }\n",
       "</style>\n",
       "<table border=\"1\" class=\"dataframe\">\n",
       "  <thead>\n",
       "    <tr style=\"text-align: right;\">\n",
       "      <th></th>\n",
       "      <th>App</th>\n",
       "      <th>Translated_Review</th>\n",
       "      <th>Sentiment</th>\n",
       "      <th>Sentiment_Polarity</th>\n",
       "      <th>Sentiment_Subjectivity</th>\n",
       "    </tr>\n",
       "  </thead>\n",
       "  <tbody>\n",
       "    <tr>\n",
       "      <th>0</th>\n",
       "      <td>10 Best Foods for You</td>\n",
       "      <td>I like eat delicious food. That's I'm cooking ...</td>\n",
       "      <td>Positive</td>\n",
       "      <td>1.00</td>\n",
       "      <td>0.533333</td>\n",
       "    </tr>\n",
       "    <tr>\n",
       "      <th>1</th>\n",
       "      <td>10 Best Foods for You</td>\n",
       "      <td>This help eating healthy exercise regular basis</td>\n",
       "      <td>Positive</td>\n",
       "      <td>0.25</td>\n",
       "      <td>0.288462</td>\n",
       "    </tr>\n",
       "    <tr>\n",
       "      <th>2</th>\n",
       "      <td>10 Best Foods for You</td>\n",
       "      <td>NaN</td>\n",
       "      <td>NaN</td>\n",
       "      <td>NaN</td>\n",
       "      <td>NaN</td>\n",
       "    </tr>\n",
       "    <tr>\n",
       "      <th>3</th>\n",
       "      <td>10 Best Foods for You</td>\n",
       "      <td>Works great especially going grocery store</td>\n",
       "      <td>Positive</td>\n",
       "      <td>0.40</td>\n",
       "      <td>0.875000</td>\n",
       "    </tr>\n",
       "    <tr>\n",
       "      <th>4</th>\n",
       "      <td>10 Best Foods for You</td>\n",
       "      <td>Best idea us</td>\n",
       "      <td>Positive</td>\n",
       "      <td>1.00</td>\n",
       "      <td>0.300000</td>\n",
       "    </tr>\n",
       "  </tbody>\n",
       "</table>\n",
       "</div>"
      ],
      "text/plain": [
       "                     App                                  Translated_Review  \\\n",
       "0  10 Best Foods for You  I like eat delicious food. That's I'm cooking ...   \n",
       "1  10 Best Foods for You    This help eating healthy exercise regular basis   \n",
       "2  10 Best Foods for You                                                NaN   \n",
       "3  10 Best Foods for You         Works great especially going grocery store   \n",
       "4  10 Best Foods for You                                       Best idea us   \n",
       "\n",
       "  Sentiment  Sentiment_Polarity  Sentiment_Subjectivity  \n",
       "0  Positive                1.00                0.533333  \n",
       "1  Positive                0.25                0.288462  \n",
       "2       NaN                 NaN                     NaN  \n",
       "3  Positive                0.40                0.875000  \n",
       "4  Positive                1.00                0.300000  "
      ]
     },
     "execution_count": 3,
     "metadata": {},
     "output_type": "execute_result"
    }
   ],
   "source": [
    "# Displaying the first few rows to understand the structure and content\n",
    "data_1.head()"
   ]
  },
  {
   "cell_type": "markdown",
   "id": "a216a44f",
   "metadata": {},
   "source": [
    "The first dataset, `googleplaystore_user_reviews.csv`, contains the following columns:\n",
    "\n",
    "1. **App**: Name of the app.\n",
    "2. **Translated_Review**: User reviews translated into English.\n",
    "3. **Sentiment**: Sentiment of the review (Positive, Negative, Neutral).\n",
    "4. **Sentiment_Polarity**: Numeric value representing the sentiment polarity.\n",
    "5. **Sentiment_Subjectivity**: Numeric value representing the sentiment subjectivity.\n",
    "\n",
    "From the initial preview, it's clear that there are missing values (`NaN`) in the dataset. The data cleaning tasks for this dataset may include:\n",
    "\n",
    "1. **Handling Missing Values**: Determine how to handle rows with missing data, especially in the `Translated_Review`, `Sentiment`, `Sentiment_Polarity`, and `Sentiment_Subjectivity` columns.\n",
    "2. **Consistency Checks**: Ensure consistency in categorical data, like the `Sentiment` column.\n",
    "3. **Data Type Validation**: Ensure that data types for each column are appropriate (e.g., numerical values for `Sentiment_Polarity` and `Sentiment_Subjectivity`).\n",
    "\n",
    "I'll perform these cleaning tasks on this dataset. Let's start with handling missing values.\n",
    "\n",
    "After the initial data cleaning on the first dataset (`googleplaystore_user_reviews.csv`), we've addressed the missing values:\n",
    "\n",
    "1. **Before Cleaning**: There were 26,868 missing values in `Translated_Review`, and a similar count in `Sentiment`, `Sentiment_Polarity`, and `Sentiment_Subjectivity` columns.\n",
    "2. **Action Taken**: Rows with missing `Translated_Review` were removed, as these rows wouldn't be useful for analysis. This also resolved missing values in the other columns.\n",
    "3. **After Cleaning**: There are no missing values in the dataset.\n",
    "\n",
    "Next, I'll check for data consistency, particularly in the `Sentiment` column, and validate the data types for `Sentiment_Polarity` and `Sentiment_Subjectivity`. Let's proceed with these checks.\n",
    "\n",
    "The consistency and data type checks for the cleaned first dataset (`googleplaystore_user_reviews.csv`) reveal the following:\n",
    "\n",
    "1. **Sentiment Consistency**: The `Sentiment` column contains three unique values - 'Positive', 'Neutral', and 'Negative'. This indicates consistent categorization with no irregular or unexpected values.\n",
    "2. **Data Types**:\n",
    "   - `App` and `Translated_Review` are of type `object`, which is suitable for text data.\n",
    "   - `Sentiment` is also of type `object`, appropriate for categorical data.\n",
    "   - `Sentiment_Polarity` and `Sentiment_Subjectivity` are of type `float64`, which is appropriate for numerical values.\n",
    "\n",
    "The first dataset is now clean and appears ready for analysis. Let's proceed with examining and cleaning the second dataset, `googleplaystore.csv`."
   ]
  },
  {
   "cell_type": "code",
   "execution_count": null,
   "id": "63b089e9",
   "metadata": {},
   "outputs": [],
   "source": []
  },
  {
   "cell_type": "markdown",
   "id": "c2f19fd2",
   "metadata": {},
   "source": [
    "The second dataset, `googleplaystore.csv`, contains the following columns:\n",
    "\n",
    "1. **App**: Name of the app.\n",
    "2. **Category**: Category of the app.\n",
    "3. **Rating**: User rating of the app.\n",
    "4. **Reviews**: Number of user reviews.\n",
    "5. **Size**: Size of the app.\n",
    "6. **Installs**: Number of installs.\n",
    "7. **Type**: Type of the app (Free/Paid).\n",
    "8. **Price**: Price of the app.\n",
    "9. **Content Rating**: Age group the app is targeted at.\n",
    "10. **Genres**: Genres of the app.\n",
    "11. **Last Updated**: Date when the app was last updated.\n",
    "12. **Current Ver**: Current version of the app.\n",
    "13. **Android Ver**: Android version required to run the app.\n",
    "\n",
    "For data cleaning, we will need to:\n",
    "\n",
    "1. **Handle Missing Values**: Identify and treat missing data.\n",
    "2. **Data Type Validation**: Ensure that data types for each column are appropriate (e.g., numerical values for `Rating`, `Reviews`, and `Price`).\n",
    "3. **Data Format Consistency**: Some columns like `Size`, `Installs`, and `Price` may require formatting to be consistent and useful for analysis.\n",
    "\n",
    "Let's start by handling missing values and checking data types.\n",
    "\n",
    "In the second dataset (`googleplaystore.csv`), we have the following observations:\n",
    "\n",
    "1. **Missing Values**:\n",
    "   - `Rating`: 1474 missing values.\n",
    "   - `Type`, `Content Rating`, `Current Ver`, and `Android Ver` have a few missing values.\n",
    "\n",
    "2. **Data Types**:\n",
    "   - Most columns are of type `object`, including `Reviews`, `Size`, `Installs`, and `Price`, which might contain numerical data but are currently in text format.\n",
    "   - `Rating` is of type `float64`, which is appropriate.\n",
    "\n",
    "For data cleaning, we'll need to handle these missing values and convert certain columns to appropriate data types. We can start by addressing the missing values. Given the nature of the data, it might be appropriate to fill missing values in `Rating` with a measure like the median or mean, and drop rows with missing values in other columns that have a small number of missing entries. Let's proceed with this approach.\n",
    "\n",
    "The missing values in the second dataset (`googleplaystore.csv`) have been addressed:\n",
    "\n",
    "1. **Missing `Rating` Values**: Filled with the median rating.\n",
    "2. **Other Missing Values**: Rows with missing values in `Type`, `Content Rating`, `Current Ver`, and `Android Ver` were removed.\n",
    "\n",
    "After these steps, there are no missing values in the dataset.\n",
    "\n",
    "Next, I will convert certain columns to more appropriate data types and handle any inconsistent formats in columns like `Reviews`, `Size`, `Installs`, and `Price`. Let's proceed with these tasks.\n",
    "\n",
    "The data type conversions and format adjustments in the second dataset (`googleplaystore.csv`) have been completed:\n",
    "\n",
    "1. **Reviews**: Converted from `object` to `int64`.\n",
    "2. **Size**: Converted to numeric values (in MB). Non-numeric values (like 'Varies with device') are set to `None`.\n",
    "3. **Installs**: Converted from `object` (string with '+' and ',') to `float64`.\n",
    "4. **Price**: Converted from `object` (string with '$') to `float64`.\n",
    "\n",
    "The dataset is now clean, with appropriate data types for analysis. Both datasets are ready for further steps in your software usage and performance analysis project. If you have specific analysis tasks or questions in mind, feel free to let me know!"
   ]
  },
  {
   "cell_type": "code",
   "execution_count": null,
   "id": "1cb4ed5d",
   "metadata": {},
   "outputs": [],
   "source": []
  },
  {
   "cell_type": "code",
   "execution_count": null,
   "id": "9cfcb441",
   "metadata": {},
   "outputs": [],
   "source": []
  },
  {
   "cell_type": "code",
   "execution_count": null,
   "id": "519861d0",
   "metadata": {},
   "outputs": [],
   "source": []
  },
  {
   "cell_type": "code",
   "execution_count": null,
   "id": "b8a27493",
   "metadata": {},
   "outputs": [],
   "source": []
  },
  {
   "cell_type": "code",
   "execution_count": null,
   "id": "b691bf1b",
   "metadata": {},
   "outputs": [],
   "source": []
  },
  {
   "cell_type": "code",
   "execution_count": null,
   "id": "d8534c93",
   "metadata": {},
   "outputs": [],
   "source": []
  },
  {
   "cell_type": "code",
   "execution_count": null,
   "id": "9993ee54",
   "metadata": {},
   "outputs": [],
   "source": []
  },
  {
   "cell_type": "code",
   "execution_count": null,
   "id": "58710bbd",
   "metadata": {},
   "outputs": [],
   "source": []
  },
  {
   "cell_type": "code",
   "execution_count": null,
   "id": "68bd2e41",
   "metadata": {},
   "outputs": [],
   "source": []
  },
  {
   "cell_type": "code",
   "execution_count": null,
   "id": "74e05414",
   "metadata": {},
   "outputs": [],
   "source": []
  },
  {
   "cell_type": "code",
   "execution_count": null,
   "id": "2a9b348d",
   "metadata": {},
   "outputs": [],
   "source": []
  },
  {
   "cell_type": "code",
   "execution_count": null,
   "id": "ba9348fa",
   "metadata": {},
   "outputs": [],
   "source": []
  },
  {
   "cell_type": "code",
   "execution_count": null,
   "id": "68b6f8d0",
   "metadata": {},
   "outputs": [],
   "source": []
  },
  {
   "cell_type": "code",
   "execution_count": null,
   "id": "7d8c7c44",
   "metadata": {},
   "outputs": [],
   "source": []
  },
  {
   "cell_type": "code",
   "execution_count": null,
   "id": "bf4c2736",
   "metadata": {},
   "outputs": [],
   "source": []
  }
 ],
 "metadata": {
  "kernelspec": {
   "display_name": "Python 3 (ipykernel)",
   "language": "python",
   "name": "python3"
  },
  "language_info": {
   "codemirror_mode": {
    "name": "ipython",
    "version": 3
   },
   "file_extension": ".py",
   "mimetype": "text/x-python",
   "name": "python",
   "nbconvert_exporter": "python",
   "pygments_lexer": "ipython3",
   "version": "3.11.5"
  }
 },
 "nbformat": 4,
 "nbformat_minor": 5
}
